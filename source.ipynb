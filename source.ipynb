{
  "cells": [
    {
      "cell_type": "code",
      "execution_count": 50,
      "metadata": {
        "colab": {
          "base_uri": "https://localhost:8080/"
        },
        "id": "FH1yW_i2hPj3",
        "outputId": "b80ed43f-464b-49b5-a278-ace368bce3a0"
      },
      "outputs": [
        {
          "output_type": "stream",
          "name": "stdout",
          "text": [
            "fatal: destination path 'c1a8c0359fbde2f6dcb92065b8ffc5e3' already exists and is not an empty directory.\n"
          ]
        }
      ],
      "source": [
        "!git clone https://gist.github.com/c1a8c0359fbde2f6dcb92065b8ffc5e3.git"
      ]
    },
    {
      "cell_type": "code",
      "execution_count": 51,
      "metadata": {
        "colab": {
          "base_uri": "https://localhost:8080/",
          "height": 354
        },
        "id": "BW7lFK3qhkG8",
        "outputId": "820459d4-e8a0-44c8-c562-4f400f135b61"
      },
      "outputs": [
        {
          "output_type": "execute_result",
          "data": {
            "text/plain": [
              "   Unnamed: 0  Unnamed: 0.1  \\\n",
              "0           0             2   \n",
              "1           1             3   \n",
              "2           2             4   \n",
              "3           3             5   \n",
              "4           4             6   \n",
              "\n",
              "                                            headline  \\\n",
              "0  Agilent Technologies Announces Pricing of $5……...   \n",
              "1  Agilent (A) Gears Up for Q2 Earnings: What's i...   \n",
              "2  J.P. Morgan Asset Management Announces Liquida...   \n",
              "3  Pershing Square Capital Management, L.P. Buys ...   \n",
              "4  Agilent Awards Trilogy Sciences with a Golden ...   \n",
              "\n",
              "                                                 url  publisher  \\\n",
              "0  http://www.gurufocus.com/news/1153187/agilent-...  GuruFocus   \n",
              "1  http://www.zacks.com/stock/news/931205/agilent...      Zacks   \n",
              "2  http://www.gurufocus.com/news/1138923/jp-morga...  GuruFocus   \n",
              "3  http://www.gurufocus.com/news/1138704/pershing...  GuruFocus   \n",
              "4  http://www.gurufocus.com/news/1134012/agilent-...  GuruFocus   \n",
              "\n",
              "                  date stock  \n",
              "0  2020-06-01 00:00:00     A  \n",
              "1  2020-05-18 00:00:00     A  \n",
              "2  2020-05-15 00:00:00     A  \n",
              "3  2020-05-15 00:00:00     A  \n",
              "4  2020-05-12 00:00:00     A  "
            ],
            "text/html": [
              "\n",
              "  <div id=\"df-66bd55e0-6157-4c89-b6a0-3b28fa935049\">\n",
              "    <div class=\"colab-df-container\">\n",
              "      <div>\n",
              "<style scoped>\n",
              "    .dataframe tbody tr th:only-of-type {\n",
              "        vertical-align: middle;\n",
              "    }\n",
              "\n",
              "    .dataframe tbody tr th {\n",
              "        vertical-align: top;\n",
              "    }\n",
              "\n",
              "    .dataframe thead th {\n",
              "        text-align: right;\n",
              "    }\n",
              "</style>\n",
              "<table border=\"1\" class=\"dataframe\">\n",
              "  <thead>\n",
              "    <tr style=\"text-align: right;\">\n",
              "      <th></th>\n",
              "      <th>Unnamed: 0</th>\n",
              "      <th>Unnamed: 0.1</th>\n",
              "      <th>headline</th>\n",
              "      <th>url</th>\n",
              "      <th>publisher</th>\n",
              "      <th>date</th>\n",
              "      <th>stock</th>\n",
              "    </tr>\n",
              "  </thead>\n",
              "  <tbody>\n",
              "    <tr>\n",
              "      <th>0</th>\n",
              "      <td>0</td>\n",
              "      <td>2</td>\n",
              "      <td>Agilent Technologies Announces Pricing of $5……...</td>\n",
              "      <td>http://www.gurufocus.com/news/1153187/agilent-...</td>\n",
              "      <td>GuruFocus</td>\n",
              "      <td>2020-06-01 00:00:00</td>\n",
              "      <td>A</td>\n",
              "    </tr>\n",
              "    <tr>\n",
              "      <th>1</th>\n",
              "      <td>1</td>\n",
              "      <td>3</td>\n",
              "      <td>Agilent (A) Gears Up for Q2 Earnings: What's i...</td>\n",
              "      <td>http://www.zacks.com/stock/news/931205/agilent...</td>\n",
              "      <td>Zacks</td>\n",
              "      <td>2020-05-18 00:00:00</td>\n",
              "      <td>A</td>\n",
              "    </tr>\n",
              "    <tr>\n",
              "      <th>2</th>\n",
              "      <td>2</td>\n",
              "      <td>4</td>\n",
              "      <td>J.P. Morgan Asset Management Announces Liquida...</td>\n",
              "      <td>http://www.gurufocus.com/news/1138923/jp-morga...</td>\n",
              "      <td>GuruFocus</td>\n",
              "      <td>2020-05-15 00:00:00</td>\n",
              "      <td>A</td>\n",
              "    </tr>\n",
              "    <tr>\n",
              "      <th>3</th>\n",
              "      <td>3</td>\n",
              "      <td>5</td>\n",
              "      <td>Pershing Square Capital Management, L.P. Buys ...</td>\n",
              "      <td>http://www.gurufocus.com/news/1138704/pershing...</td>\n",
              "      <td>GuruFocus</td>\n",
              "      <td>2020-05-15 00:00:00</td>\n",
              "      <td>A</td>\n",
              "    </tr>\n",
              "    <tr>\n",
              "      <th>4</th>\n",
              "      <td>4</td>\n",
              "      <td>6</td>\n",
              "      <td>Agilent Awards Trilogy Sciences with a Golden ...</td>\n",
              "      <td>http://www.gurufocus.com/news/1134012/agilent-...</td>\n",
              "      <td>GuruFocus</td>\n",
              "      <td>2020-05-12 00:00:00</td>\n",
              "      <td>A</td>\n",
              "    </tr>\n",
              "  </tbody>\n",
              "</table>\n",
              "</div>\n",
              "      <button class=\"colab-df-convert\" onclick=\"convertToInteractive('df-66bd55e0-6157-4c89-b6a0-3b28fa935049')\"\n",
              "              title=\"Convert this dataframe to an interactive table.\"\n",
              "              style=\"display:none;\">\n",
              "        \n",
              "  <svg xmlns=\"http://www.w3.org/2000/svg\" height=\"24px\"viewBox=\"0 0 24 24\"\n",
              "       width=\"24px\">\n",
              "    <path d=\"M0 0h24v24H0V0z\" fill=\"none\"/>\n",
              "    <path d=\"M18.56 5.44l.94 2.06.94-2.06 2.06-.94-2.06-.94-.94-2.06-.94 2.06-2.06.94zm-11 1L8.5 8.5l.94-2.06 2.06-.94-2.06-.94L8.5 2.5l-.94 2.06-2.06.94zm10 10l.94 2.06.94-2.06 2.06-.94-2.06-.94-.94-2.06-.94 2.06-2.06.94z\"/><path d=\"M17.41 7.96l-1.37-1.37c-.4-.4-.92-.59-1.43-.59-.52 0-1.04.2-1.43.59L10.3 9.45l-7.72 7.72c-.78.78-.78 2.05 0 2.83L4 21.41c.39.39.9.59 1.41.59.51 0 1.02-.2 1.41-.59l7.78-7.78 2.81-2.81c.8-.78.8-2.07 0-2.86zM5.41 20L4 18.59l7.72-7.72 1.47 1.35L5.41 20z\"/>\n",
              "  </svg>\n",
              "      </button>\n",
              "      \n",
              "  <style>\n",
              "    .colab-df-container {\n",
              "      display:flex;\n",
              "      flex-wrap:wrap;\n",
              "      gap: 12px;\n",
              "    }\n",
              "\n",
              "    .colab-df-convert {\n",
              "      background-color: #E8F0FE;\n",
              "      border: none;\n",
              "      border-radius: 50%;\n",
              "      cursor: pointer;\n",
              "      display: none;\n",
              "      fill: #1967D2;\n",
              "      height: 32px;\n",
              "      padding: 0 0 0 0;\n",
              "      width: 32px;\n",
              "    }\n",
              "\n",
              "    .colab-df-convert:hover {\n",
              "      background-color: #E2EBFA;\n",
              "      box-shadow: 0px 1px 2px rgba(60, 64, 67, 0.3), 0px 1px 3px 1px rgba(60, 64, 67, 0.15);\n",
              "      fill: #174EA6;\n",
              "    }\n",
              "\n",
              "    [theme=dark] .colab-df-convert {\n",
              "      background-color: #3B4455;\n",
              "      fill: #D2E3FC;\n",
              "    }\n",
              "\n",
              "    [theme=dark] .colab-df-convert:hover {\n",
              "      background-color: #434B5C;\n",
              "      box-shadow: 0px 1px 3px 1px rgba(0, 0, 0, 0.15);\n",
              "      filter: drop-shadow(0px 1px 2px rgba(0, 0, 0, 0.3));\n",
              "      fill: #FFFFFF;\n",
              "    }\n",
              "  </style>\n",
              "\n",
              "      <script>\n",
              "        const buttonEl =\n",
              "          document.querySelector('#df-66bd55e0-6157-4c89-b6a0-3b28fa935049 button.colab-df-convert');\n",
              "        buttonEl.style.display =\n",
              "          google.colab.kernel.accessAllowed ? 'block' : 'none';\n",
              "\n",
              "        async function convertToInteractive(key) {\n",
              "          const element = document.querySelector('#df-66bd55e0-6157-4c89-b6a0-3b28fa935049');\n",
              "          const dataTable =\n",
              "            await google.colab.kernel.invokeFunction('convertToInteractive',\n",
              "                                                     [key], {});\n",
              "          if (!dataTable) return;\n",
              "\n",
              "          const docLinkHtml = 'Like what you see? Visit the ' +\n",
              "            '<a target=\"_blank\" href=https://colab.research.google.com/notebooks/data_table.ipynb>data table notebook</a>'\n",
              "            + ' to learn more about interactive tables.';\n",
              "          element.innerHTML = '';\n",
              "          dataTable['output_type'] = 'display_data';\n",
              "          await google.colab.output.renderOutput(dataTable, element);\n",
              "          const docLink = document.createElement('div');\n",
              "          docLink.innerHTML = docLinkHtml;\n",
              "          element.appendChild(docLink);\n",
              "        }\n",
              "      </script>\n",
              "    </div>\n",
              "  </div>\n",
              "  "
            ]
          },
          "metadata": {},
          "execution_count": 51
        }
      ],
      "source": [
        "import pandas\n",
        "\n",
        "headlines_df = pandas.read_csv('c1a8c0359fbde2f6dcb92065b8ffc5e3/300_stock_headlines.csv')\n",
        "headlines_df.head(5)"
      ]
    },
    {
      "cell_type": "code",
      "execution_count": 52,
      "metadata": {
        "colab": {
          "base_uri": "https://localhost:8080/"
        },
        "id": "mb0ryQo1hlp2",
        "outputId": "fa0305f2-6636-4f8a-ca7b-788afd71ecdd"
      },
      "outputs": [
        {
          "output_type": "stream",
          "name": "stdout",
          "text": [
            "['why is agilent (a) up 5.3% since last earnings report?', 'stocks with rising relative strength: agilent technologies', 'j.p. morgan asset management announces liquidation of six exchange-traded funds', \"tracking william von mueffling's cantillon capital management portfolio - q4 2018 update\", 'kraneshares joins with nasdaq dorsey wright to launch kraneshares china rotation model', 'when does market timing actually work? - november 01, 2019', 'krueger & catalano capital partners, llc buys bristol-myers squibb company, agilent ...', 'synaptics (syna) q3 earnings: will the stock disappoint?', 'hedge funds have never been this bullish on xilinx, inc.', 'top ranked momentum stocks to buy for february 25th', 'stocks to watch: eyes on cyber monday, argentina and mars', \"notable earnings after monday's close\", 'dividend increases: november 18-22, 2019', \"napier park global capital llc buys invesco senior loan, agilent technologies inc, lowe's inc, ...\", 'live nation entertainment, zebra technologies, steris set to join s&p 5……; others to ...', 'healthcare and biotechnology dashboard - update', 'agilent announces receipt of fda approval for pharmdx assay', 'agilent technologies, inc. 2019 q2 - results - earnings call slides', \"turtle beach (hear) to report q1 earnings: what's in store?\", 'square (sq) surpasses q4 earnings and revenue estimates', \"tracking william von mueffling's cantillon capital management portfolio - q3 2019 update\", \"needham sees 27% upside in thermo fisher in today's analyst action\", 'will agilent (a) beat estimates again in its next earnings report?', '6 guru stocks trading with low price-sales ratios', \"' stocks growing their earnings fast\", 'agilent technologies (a) q2 earnings and revenues miss estimates', \"the zacks analyst blog highlights: mcdonald's, cvs health, celgene, coca-cola and agilent\", 'godaddy (gddy) q4 earnings miss estimates, revenues beat', 'agilent technologies sees rs rating improve to 76', 'global stock markets red on tuesday', '50 firms going ex-dividend next week, including cardinal health, jp morgan chase and comcast', 'agilent technologies, inc. (a) ceo mike mcmullen on q4 2019 results - earnings call transcript', 'fda oks agilent companion diagnostic for keytruda in hnscc', 'parnassus endeavor fund buys fedex corp, vf corp, expeditors international of washington inc, ...', 'silicon valley pioneer keysight just moved into the buy zone — but can it stay there?', 'stocks to watch: earnings heat check', 'cypress asset management inc buys verizon communications inc, united parcel service inc, ...', \"alibaba (baba) gears up for q4 earnings: what's in store?\", 'nomura holdings inc buys aramark, at&t inc, emerson electric co, sells amazon. ...', 'lgt capital partners ltd. buys microsoft corp, stryker corp, the estee lauder inc, sells ...', \"agilent (a) gears up for q3 earnings: what's in the cards?\", 'agilent fq1 non-gaap earnings up 13%; soft guidance pressures shares, down 4% after hours', 'dividend challenger highlights: week of september 22', 'fortive (ftv) earnings & revenues surpass estimates in q4', 'stifel likes illumina in premarket analyst action', 'macom (mtsi) q2 loss wider than expected, revenues fall y/y', 'top 5 buys of the signature select canadian fund', 'agilent (a) earnings and revenues beat estimates in q3', 'trimble strengthens agriculture portfolio with weedseeker 2', 'will new technologies benefit agilent (a) in q1 earnings?', 'a, csco, ntap and wpg among after hour movers', 'stocks for you to swing-trade: ttwo, a, rop', '6 stocks beating the market', 'acb and a among premarket losers', 'agilent technologies sees rs rating climb to 74', 'applied materials (amat) q1 earnings & sales top estimates', 'oppenheimer likes millendo therapeutics in premarket analyst action', 'mercadolibre (meli) q1 earnings & revenues beat estimates', \"bruker to buy freiberg instruments' magnettech epr business\", \"fiber optic sensor market - the mastermind behind today's technology\", 'stocks to watch: walmart and alibaba step to the plate', 'agilent: 2 decades of portfolio moves left investors with a good business', 'agilent technologies (a) tops q3 earnings and revenue estimates', 'walmart and alibaba step to the plate (stocks to watch podcast)', \"bill ackman's pershing square —…–9 annual letter to shareholders\", 'fitbit (fit) q4 loss wider than estimated, revenues lag', 'simple market timing strategies that work - september 17, 2019', 'agilent (a) surpasses earnings and revenue estimates in q4', 'how to time the markets like an investing pro - february 20, 2020', \"the dow jones industrial average will lose 400 points on today's inverted yield curve\", 'clean yield group buys healthcare trust of america inc, lakeland financial corp, u.s. ...', 'stocks to watch: retailers, dubai airshow and cybertrucks', 'agilent q4 2019 earnings preview', 'agilent technologies inc (a) ceo and president michael r. mcmullen sold $4 million of shares', 'oakmark equity and income fund: third quarter 2019', \"what's in store for the meet group (meet) in q1 earnings?\", 'hendley & co inc buys american electric power co inc, agilent technologies inc, paychex ...', 'week in review: cstone pharma, a suzhou oncology company, files for hong kong ipo', 'agilent technologies inc (a) ceo and president michael r. mcmullen sold $–.4 million of shares', 'agilent technologies inc. 2018 q4 - results - earnings call slides', 'agilent technologies (a) earnings expected to grow: should you buy?', \"tracking william von mueffling's cantillon capital management portfolio - q1 2019 update\", 'agilent technologies (a) ceo mike mcmullen on q4 2018 results - earnings call transcript', 'why is agilent (a) up 3.9% since last earnings report?', 'timing the market, is it possible? - january 10, 2020', 'catalyst capital advisors llc buys aflac inc, agilent technologies inc, cree inc, sells amgen ...', \"john templeton's investment philosophy\", \"dropbox (dbx) to report q1 earnings: what's in the offing?\", 'top ranked momentum stocks to buy for february 26th', 'agilent (a) q1 earnings in line with estimates, revenues top', \"top –st-quarter buys of jerome dodson's parnassus fund\", 'agilent completes biotek buy', 'agilent technologies, inc. (a) ceo michael mcmullen on q3 2019 results - earnings call transcript', \"illumina's growth shows no signs of slowing down\", 'agilent launches debt offering', \"te connectivity (tel) q1 earnings: what's in the cards?\", \"notable earnings after tuesday's close\", 'mettler-toledo (mtd) earnings & revenues top estimates in q1', 'bluespruce investments, lp buys ross stores inc, tjx inc, comcast corp, sells constellation ...', 'agilent to acquire biotek, cell analysis portfolio to expand', 'agilent technologies: buy for great growth in the pharmaceutical development business', 'agilent (a) earnings and revenues surpass estimates in q4', \"bill ackman's pershing square: 4th-quarter update\", 'private bank & trust co buys agilent technologies inc, alibaba group holding, icon plc, ...', 'spotlight on alibaba, best buy and dupont (stocks to watch podcast)', 'earnings related companies tops after hour movers', 'electronics testing equipment outlook: solid demand ahead', 'the truth about market timing - july 30, 2019', 'wall street tumbles following yield curve inversion', 'perkinelmer: an excellent opportunity', 'dividend challenger highlights: week of october 20', 'agilent declares $0.18 dividend', 'earnings heat check (stocks to watch podcast)', \"agilent (a) upgraded to buy: here's why\", 'agilent to acquire biotek for $1.165b', 'agilent technologies hitting lower rail of upwardly sloped trend channel ahead of earnings', 'waters q1 miss and lower guidance pressures life sciences kit makers', \"trimble's (trmb) q1 earnings miss estimates, revenues up y/y\", 'agilent declares $0.164 dividend', 'stock futures plunge as recession fears intensify', \"factors to consider ahead of egain's (egan) q3 earnings\", 'fairpointe capital llc buys adtalem global education inc, corning inc, agilent technologies ...', 'why is agilent (a) up 5.4% since last earnings report?', \"acquisition boosts exact sciences' role in cancer diagnostics\", 'agilent eps beats by $0.03, misses on revenue', 'top five weekend stock stories - jan. 20', '21 upcoming dividend increases to round out 2018', 'wells sees 33% upside in gilead in premarket analyst action', \"notable earnings after monday's close\", '29 firms going ex-dividend next week, including comcast, cisco and jp morgan', \"tracking william von mueffling's cantillon capital management portfolio - q3 2018 update\", 'earnings watch: panw stock rallies ahead of results; retail leader forms bullish base', 'findlay park partners llp buys agilent technologies inc, fiserv inc, analog devices inc, sells ...', 'twin capital management inc buys agilent technologies inc, fortinet inc, cboe global markets ...', 'agilent technologies, inc. (a) management presents at evercore isi healthconx conference (transcript)', \"pareteum (teum) to post q1 earnings: what's in the cards?\", 'the top large-cap sectors, industries, and stocks to buy now', 'agilent technologies (a) earnings expected to grow: should you buy?', 'dividend challenger highlights: week of june 23', 'trimble strengthens forestry division with 3log acquisition', 'agilent technologies meets 80-plus relative strength rating benchmark', 'meridian management co buys cvs health corp, boeing co, liveramp holdings inc, sells ishares ...', 'ibd stock of the day: this company gets a lift from its 5g rollout', 'sit investment associates inc buys united technologies corp, corning inc, comcast corp, sells ...', 'tdam usa inc. buys phillips 66, dupont de nemours inc, agilent technologies inc, sells apple ...', 'agilent awards trilogy sciences with a golden ticket at labcentral', 'stocks to watch: agilent technologies sees relative strength rating jump to 84', \"parnassus endeavor fund adds ' stocks to portfolio in –st quarter\", 'tense about trade war? follow goldman with 5 etf strategies', 'agilent launches new water quality analyzer', 'twist bio down 14% on expanded agilent complaint over alleged theft of trade secrets', 'the market timing secrets no one talks about - december 17, 2019', 'retailers, dubai airshow and cybertrucks (stocks to watch podcast)', 'dow jones futures: stock market fear gauge hits new low; palo alto networks, nutanix, ambarella, hewlett packard enterprise, chemocentryx are big movers late', 'agilent is up almost 20% since its last earnings report: assessing if the momentum continues', 'agilent down 8% after hours on fq2 miss, revenue guidance cut', 'agilent: an excellent company at average price', 'agilent declares $0.164 dividend', 'harvey investment co llc buys fastenal co, agilent technologies inc, carmax inc, sells croda ...', 'paint it black (stocks to watch podcast)', \"pegasystems (pega) to report q1 earnings: what's in store?\", '5g wireless networks give this communications test gear maker a lift', 'why the earnings surprise streak could continue for agilent (a)', 'agilent readies debt offering', 'ametek (ame) q1 earnings and revenues surpass estimates', '4 stocks to focus on global biotechnology reagents market', 'stocks to watch: paint it black', 'agilent technologies (a) gains as market dips: what you should know', \"agilent (a) gears up for q2 earnings: what's in the cards?\", 'stock upgrades: agilent technologies shows rising relative strength', 'spotlight on walmart, samsung and cagny (stocks to watch podcast)', 'stocks to watch: spotlight on walmart, samsung and cagny', 'beaconlight capital, llc buys fortune brands home & security inc, hasbro inc, kar auction ...', 'agilent: some bolt-on m&a to rejuvenate growth', 'stocks to watch: spotlight on alibaba, best buy and dupont', 'stonehage fleming financial services holdings ltd buys autoliv inc, walmart inc, uber ...', 'agilent technologies to adjourn annual meeting until april –7, —…—…', 'why is agilent (a) down 19.3% since last earnings report?', 'stock chart breakdown alert: agilent tech (a)', 'best large-cap stocks to buy now', 'mechanics bank trust department buys spdr wells fargo preferred stock etf, huntington ...', 'agilent technologies inc (a) ceo and president michael r. mcmullen sold $67–,6—7 of shares', 'agilent eps beats by $0.04, beats on revenue', 'tiemann investment advisors, llc buys spdr barclays convertible securities etf, d.r. ...', 'wall street breakfast: trade deadline and fed meeting', 'bessemer securities llc buys facebook inc, texas instruments inc, bank of america corporation, ...', 'agilent on watch after positive eu drug development', \"what's in store for booking holdings' (bkng) q1 earnings?\", 'advanced energy (aeis) q1 earnings beat, revenues down y/y', \"what's in the offing for tripadvisor's (trip) q1 earnings?\", 'agilent technologies (a) is a great momentum stock: should you buy?', \"avid technology (avid) to post q1 earnings: what's in store?\", 'pershing square capital management, l.p. buys agilent technologies inc, sells automatic data ...', 'stock upgrades: agilent technologies shows rising relative strength', 'stocks showing rising market leadership: agilent technologies earns 82 rs rating', 'will lower revenues affect commscope (comm) q1 earnings?', \"factors likely to decide jd.com's (jd) fate in q1 earnings\", 'bill ackman on agilent technologies', \"notable earnings after wednesday's close\", \"what's in the cards for zillow group (zg) in q1 earnings?\", 'lgt capital partners ltd. buys unitedhealth group inc, alphabet inc, ross stores inc, sells ...', 'investor expectations to drive momentum within entercom communications, ppl, clean energy ...', 'agilent technologies inc. 2019 q1 - results - earnings call slides', 'market-beating sector etfs year to date', 'agilent technologies (a) reports next week: wall street expects earnings growth', 'agilent technologies announces cash dividend of –8 cents per share', 'lgt capital partners ltd. buys unitedhealth group inc, alphabet inc, agilent technologies inc, ...', 'clearfield capital management lp buys insperity inc, square inc, agilent technologies inc, ...', 'eaton vance exits celgene, trims amgen position', 'agilent (a) hikes quarterly dividend, rewards shareholders', \"bill ackman's pershing square packs into agilent\", 'pershing square capital management, l.p. buys agilent technologies inc, the howard hughes corp, ...', 'impax asset management group plc buys pentair plc, agilent technologies inc, iqvia holdings ...', 'itron (itri) earnings and revenues surpass estimates in q1', 'stock upgrades: agilent technologies shows rising relative strength', 'agilent launches new qc system for next-gen sequencing', '3 things to know about q4 earnings season', 'yes, you can time the market. find out how - november 21, 2019', 'agilent introduces crosslab connect services for lab-wide asset monitoring', 'royal london asset management ltd buys apple inc, amazon. ...', 'agilent technologies announces pricing of $5…… million of senior notes', 'dean capital investments management, llc buys the chemours co, delek us holdings inc, alcoa ...', 'stock upgrades: agilent technologies shows rising relative strength', 'cypress looks to gain traction with new usb-c controller', 'agilent declares $0.164 dividend', 'bullish quintet', 'agilent technologies (a) earnings expected to grow: should you buy?', 'troy asset management ltd buys agilent technologies inc, mastercard inc, cisco systems inc, ...', 'agilent fq4 top line up 9%; earnings up 10%', 'dividend growth stocks of tomorrow: agilent technologies inc.', 'agilent (a) up 11.5% since last earnings report: can it continue?', \"what's in store for the meet group (meet) in q1 earnings?\", \"pegasystems (pega) to report q1 earnings: what's in store?\", \"can new offerings & buyouts aid cisco's (csco) q3 earnings?\", \"square (sq) to report q1 earnings: what's in the offing?\", 'how to time the markets like an investing pro - october 10, 2019', 'agilent up 4% after hours on pershing stake', 'agilent technologies: buy for total return and potential technology growth', 'agilent q3 2019 earnings preview', \"tencent (tcehy) to report q4 earnings: what's in the cards?\", 'dividend challenger highlights: week of july 21', 'barclays bearish on teva, sees 14% downside risk in premarket analyst action', 'fairpointe capital llc buys agilent technologies inc, magna international inc, ishares msci ...', 'ibd stock of the day keysight technologies hits buy zone as wall street cheers 5g-driven growth', \"agilent (a) gears up for q1 earnings: what's in the cards?\", \"what's in the offing for mettler-toledo's (mtd) q1 earnings?\", \"can strong cloud growth propel alibaba's (baba) q3 earnings?\", 'calamos wealth management llc buys amazon. ...', 'agilent technologies inc (a) presents at the 31st annual piper jaffray healthcare conference (transcript)', 'stock upgrades: agilent technologies shows rising relative strength', 'what makes agilent (a) a new buy stock', 'will new technologies benefit agilent (a) in q4 earnings?', 'agilent misses by $0.01, misses on revenue', 'agilent declares $0.164 dividend', 's.e.e.d. planning group llc buys vaneck vectors morningstar wide moat, pepsico inc, ecolab inc, ...', 'agilent (a) surpasses earnings and revenue estimates in q1', 'agilent (a) withdraws q2 & fy20 view amid coronavirus crisis', 'agilent beats by $0.07, beats on revenue', 'wunderlich capital managemnt buys servicenow inc, truist financial corp, agilent technologies ...', \"top research reports for mcdonald's, cvs health & celgene\", 'parnassus fund buys kla corp, agilent technologies inc, square inc, sells alliance data systems ...', 'timing the market, is it possible? - april 07, 2020', 'agilent technologies to change location of annual meeting', 'thermo fisher: stellar results year after year', 'oxford asset management buys federal street acquisition corp, tesaro inc, bhp group plc, sells ...', \"tracking dan loeb's third point portfolio - q3 2018 update\", 'epoch investment partners, inc. buys kkr inc, coca-cola co, huntington ingalls industries inc, ...', 'agilent technologies, inc. (a) ceo mike mcmullen on q2 2019 results - earnings call transcript', 'td asset management inc buys tc energy corp, ishares iboxx $ high yield corporate bond etf, ...', \"agilent technologies, inc.'s (a) ceo mike mcmullen on q1 2019 results - earnings call transcript\", 'agilent technologies (a) surpasses q4 earnings and revenue estimates', 'expedia group (expe) q1 earnings top, revenues lag estimates', 'a, acb, eght and tlry among notable after hour movers', 'agilent q2 2019 earnings preview', 'stocks with rising relative strength: agilent technologies', \"what's in store for ametek (ame) this earnings season?\", 'parnassus endeavor fund buys alaska air group inc, arista networks inc, charles schwab corp, ...', \"parnassus endeavor fund buys 4 stocks in 'rd quarter\", 'parnassus endeavor fund adds to cisco, alphabet', 'teacher retirement system of texas buys hologic inc, vanguard total stock market, agilent ...', \"bill ackman's pershing square releases letter to investors\", \"what to expect from agilent's earnings\", 'amtek (ame) hits fresh high: is there still room to run?', 'eyes on cyber monday, argentina and mars (stocks to watch podcast)', 'stocks rise along with the tariffs. go figure!', 'dividend challenger highlights: week of november 24', \"agilent technologies (a) earnings expected to grow: what to know ahead of next week's release\", 'agilent prices public offering of $500m senior notes due 2029', 'agilent up 5% on fq3 beat, lower end of guidance raise', \"etsy (etsy) to report q1 earnings: what's in the cards?\", 'agilent technologies inc (a) ceo and president michael r. mcmullen sold $–.– million of shares', \"tracking william von mueffling's cantillon capital management portfolio - q2 2019 update\", 'stocks flashing renewed technical strength: agilent technologies', 'morning call for tuesday, nov. 20', 'booking holdings (bkng) q4 earnings & revenues beat estimates', '33 firms going ex-dividend next week, including comcast, jp morgan and cisco systems', 'cookson peirce & co inc buys eli lilly and co, vertex pharmaceuticals inc, netflix inc, ...', 'bmo likes amgen and gilead in premarket analyst action', 'agilent technologies, inc. 2019 q4 - results - earnings call presentation', 'parnassus endeavor fund invests in insurance and logistics in 4th quarter']\n"
          ]
        }
      ],
      "source": [
        "import numpy as np\n",
        "headlines_array = np.array(headlines_df)\n",
        "np.random.shuffle(headlines_array)\n",
        "headlines_pre_list = list(headlines_array[:,2])\n",
        "headlines_list = [s.lower() for s in headlines_pre_list]\n",
        "\n",
        "print(headlines_list)"
      ]
    },
    {
      "cell_type": "code",
      "execution_count": 53,
      "metadata": {
        "colab": {
          "base_uri": "https://localhost:8080/"
        },
        "id": "nsOcuHbYhpP-",
        "outputId": "20d11a3a-d646-4535-a703-6be2a8fd7cd3"
      },
      "outputs": [
        {
          "output_type": "stream",
          "name": "stdout",
          "text": [
            "Looking in indexes: https://pypi.org/simple, https://us-python.pkg.dev/colab-wheels/public/simple/\n",
            "Requirement already satisfied: transformers in /usr/local/lib/python3.8/dist-packages (4.26.1)\n",
            "Requirement already satisfied: filelock in /usr/local/lib/python3.8/dist-packages (from transformers) (3.9.0)\n",
            "Requirement already satisfied: tqdm>=4.27 in /usr/local/lib/python3.8/dist-packages (from transformers) (4.64.1)\n",
            "Requirement already satisfied: regex!=2019.12.17 in /usr/local/lib/python3.8/dist-packages (from transformers) (2022.6.2)\n",
            "Requirement already satisfied: numpy>=1.17 in /usr/local/lib/python3.8/dist-packages (from transformers) (1.22.4)\n",
            "Requirement already satisfied: huggingface-hub<1.0,>=0.11.0 in /usr/local/lib/python3.8/dist-packages (from transformers) (0.12.1)\n",
            "Requirement already satisfied: requests in /usr/local/lib/python3.8/dist-packages (from transformers) (2.25.1)\n",
            "Requirement already satisfied: tokenizers!=0.11.3,<0.14,>=0.11.1 in /usr/local/lib/python3.8/dist-packages (from transformers) (0.13.2)\n",
            "Requirement already satisfied: pyyaml>=5.1 in /usr/local/lib/python3.8/dist-packages (from transformers) (6.0)\n",
            "Requirement already satisfied: packaging>=20.0 in /usr/local/lib/python3.8/dist-packages (from transformers) (23.0)\n",
            "Requirement already satisfied: typing-extensions>=3.7.4.3 in /usr/local/lib/python3.8/dist-packages (from huggingface-hub<1.0,>=0.11.0->transformers) (4.5.0)\n",
            "Requirement already satisfied: chardet<5,>=3.0.2 in /usr/local/lib/python3.8/dist-packages (from requests->transformers) (4.0.0)\n",
            "Requirement already satisfied: certifi>=2017.4.17 in /usr/local/lib/python3.8/dist-packages (from requests->transformers) (2022.12.7)\n",
            "Requirement already satisfied: urllib3<1.27,>=1.21.1 in /usr/local/lib/python3.8/dist-packages (from requests->transformers) (1.24.3)\n",
            "Requirement already satisfied: idna<3,>=2.5 in /usr/local/lib/python3.8/dist-packages (from requests->transformers) (2.10)\n"
          ]
        }
      ],
      "source": [
        "!pip install transformers\n",
        "\n",
        "#Getting the tokenizer and the model\n",
        "\n",
        "from transformers import AutoTokenizer, AutoModelForSequenceClassification\n",
        "  \n",
        "tokenizer = AutoTokenizer.from_pretrained(\"ProsusAI/finbert\")\n",
        "\n",
        "model = AutoModelForSequenceClassification.from_pretrained(\"ProsusAI/finbert\")"
      ]
    },
    {
      "cell_type": "code",
      "execution_count": 54,
      "metadata": {
        "colab": {
          "base_uri": "https://localhost:8080/"
        },
        "id": "oJVMrCRZhp3T",
        "outputId": "ed95ba49-c89c-4a60-9ab7-fd3d7d04a834"
      },
      "outputs": [
        {
          "output_type": "stream",
          "name": "stdout",
          "text": [
            "{'input_ids': tensor([[  101,  2339,  2003,  ...,     0,     0,     0],\n",
            "        [  101, 15768,  2007,  ...,     0,     0,     0],\n",
            "        [  101,  1046,  1012,  ...,     0,     0,     0],\n",
            "        ...,\n",
            "        [  101,  1038,  5302,  ...,     0,     0,     0],\n",
            "        [  101, 29003,  3372,  ...,     0,     0,     0],\n",
            "        [  101, 11968, 11649,  ...,     0,     0,     0]]), 'token_type_ids': tensor([[0, 0, 0,  ..., 0, 0, 0],\n",
            "        [0, 0, 0,  ..., 0, 0, 0],\n",
            "        [0, 0, 0,  ..., 0, 0, 0],\n",
            "        ...,\n",
            "        [0, 0, 0,  ..., 0, 0, 0],\n",
            "        [0, 0, 0,  ..., 0, 0, 0],\n",
            "        [0, 0, 0,  ..., 0, 0, 0]]), 'attention_mask': tensor([[1, 1, 1,  ..., 0, 0, 0],\n",
            "        [1, 1, 1,  ..., 0, 0, 0],\n",
            "        [1, 1, 1,  ..., 0, 0, 0],\n",
            "        ...,\n",
            "        [1, 1, 1,  ..., 0, 0, 0],\n",
            "        [1, 1, 1,  ..., 0, 0, 0],\n",
            "        [1, 1, 1,  ..., 0, 0, 0]])}\n"
          ]
        }
      ],
      "source": [
        "#That's where the headlines get tokenized to be inputted into model\n",
        "\n",
        "inputs = tokenizer(headlines_list, padding = True, truncation = True, return_tensors='pt')\n",
        "print(inputs)"
      ]
    },
    {
      "cell_type": "code",
      "execution_count": null,
      "metadata": {
        "colab": {
          "background_save": true
        },
        "id": "BnzrBlrxhrp3"
      },
      "outputs": [],
      "source": [
        "#inference\n",
        "\n",
        "outputs = model(**inputs)\n",
        "print(outputs.logits.shape)"
      ]
    },
    {
      "cell_type": "code",
      "execution_count": null,
      "metadata": {
        "colab": {
          "background_save": true
        },
        "id": "VRB3Y_y1htW8"
      },
      "outputs": [],
      "source": [
        "#Postprocessing with softmax\n",
        "\n",
        "import torch\n",
        "\n",
        "predictions = torch.nn.functional.softmax(outputs.logits, dim=-1)\n",
        "print(predictions)"
      ]
    },
    {
      "cell_type": "code",
      "execution_count": null,
      "metadata": {
        "colab": {
          "background_save": true
        },
        "id": "YjBCogkYhxn6"
      },
      "outputs": [],
      "source": [
        "#Model classes\n",
        "\n",
        "model.config.id2label"
      ]
    },
    {
      "cell_type": "code",
      "execution_count": null,
      "metadata": {
        "id": "77vV681DhyWb"
      },
      "outputs": [],
      "source": [
        "#Formatting the results as a pandas data frame\n",
        "\n",
        "import pandas as pd\n",
        "\n",
        "#Headline #Positive #Negative #Neutral\n",
        "positive = predictions[:, 0].tolist()\n",
        "negative = predictions[:, 1].tolist()\n",
        "neutral = predictions[:, 2].tolist()\n",
        "\n",
        "table = {'Headline':headlines_list,\n",
        "         \"Positive\":positive,\n",
        "         \"Negative\":negative, \n",
        "         \"Neutral\":neutral}\n",
        "      \n",
        "df = pd.DataFrame(table, columns = [\"Headline\", \"Positive\", \"Negative\", \"Neutral\"])\n",
        "\n",
        "#df.head(2990)\n",
        "#finds the stock to get \n",
        "try:\n",
        "  ticker = str(input(\"What stock do you want to choose to check if stock go up or down? \"))\n",
        "  target_stock_articles = df[df['Headline'].str.contains(ticker.lower())]\n",
        "\n",
        "  # calculate the overall sentiment score for each article\n",
        "  target_stock_articles.loc[:, 'SentimentScore'] = target_stock_articles['Positive'] - target_stock_articles['Negative']\n",
        "\n",
        "  # calculate the overall sentiment score for all articles relevant to the target stock\n",
        "  target_stock_sentiment_score = target_stock_articles['SentimentScore'].sum()\n",
        "  threshold = 0.2\n",
        "  # make a prediction based on the overall sentiment score\n",
        "  if target_stock_sentiment_score > threshold:\n",
        "      print(f\"{ticker} stock is predicted to go up.\")\n",
        "  else:\n",
        "      print(f\"{ticker} target stock is predicted to go down.\")\n",
        "except Exception as e:\n",
        "  print(\"Error occured\")"
      ]
    }
  ],
  "metadata": {
    "colab": {
      "provenance": []
    },
    "kernelspec": {
      "display_name": "Python 3",
      "name": "python3"
    },
    "language_info": {
      "name": "python"
    }
  },
  "nbformat": 4,
  "nbformat_minor": 0
}